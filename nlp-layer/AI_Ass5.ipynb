{
  "cells": [
    {
      "cell_type": "code",
      "execution_count": 1,
      "metadata": {
        "colab": {
          "base_uri": "https://localhost:8080/",
          "height": 0
        },
        "id": "QrGQoBXYAdG4",
        "outputId": "c5f682a0-5492-42e8-aefd-4a232690a983"
      },
      "outputs": [
        {
          "ename": "ModuleNotFoundError",
          "evalue": "No module named 'google.colab'",
          "output_type": "error",
          "traceback": [
            "\u001b[0;31m---------------------------------------------------------------------------\u001b[0m",
            "\u001b[0;31mModuleNotFoundError\u001b[0m                       Traceback (most recent call last)",
            "\u001b[1;32m/Users/tejdeep/Desktop/All/AI/AI_A5_Group_1/AI_Ass5.ipynb Cell 1\u001b[0m in \u001b[0;36m<cell line: 1>\u001b[0;34m()\u001b[0m\n\u001b[0;32m----> <a href='vscode-notebook-cell:/Users/tejdeep/Desktop/All/AI/AI_A5_Group_1/AI_Ass5.ipynb#W0sZmlsZQ%3D%3D?line=0'>1</a>\u001b[0m \u001b[39mfrom\u001b[39;00m \u001b[39mgoogle\u001b[39;00m\u001b[39m.\u001b[39;00m\u001b[39mcolab\u001b[39;00m \u001b[39mimport\u001b[39;00m drive\n\u001b[1;32m      <a href='vscode-notebook-cell:/Users/tejdeep/Desktop/All/AI/AI_A5_Group_1/AI_Ass5.ipynb#W0sZmlsZQ%3D%3D?line=1'>2</a>\u001b[0m drive\u001b[39m.\u001b[39mmount(\u001b[39m'\u001b[39m\u001b[39m/content/drive\u001b[39m\u001b[39m'\u001b[39m)\n",
            "\u001b[0;31mModuleNotFoundError\u001b[0m: No module named 'google.colab'"
          ]
        }
      ],
      "source": [
        "from google.colab import drive\n",
        "drive.mount('/content/drive')"
      ]
    },
    {
      "cell_type": "code",
      "execution_count": 18,
      "metadata": {
        "colab": {
          "base_uri": "https://localhost:8080/",
          "height": 0
        },
        "id": "EhcrIkTjL9Yy",
        "outputId": "7cb91774-68d4-4fb6-e4ff-4b4798889d60"
      },
      "outputs": [
        {
          "name": "stdout",
          "output_type": "stream",
          "text": [
            "Looking in indexes: https://pypi.org/simple, https://us-python.pkg.dev/colab-wheels/public/simple/\n",
            "Requirement already satisfied: pyswip in /usr/local/lib/python3.8/dist-packages (0.2.10)\n"
          ]
        }
      ],
      "source": [
        "!pip install pyswip"
      ]
    },
    {
      "cell_type": "code",
      "execution_count": 19,
      "metadata": {
        "colab": {
          "base_uri": "https://localhost:8080/",
          "height": 0
        },
        "id": "TkwwtEr1KhSW",
        "outputId": "e6724b0e-82f2-4887-cef4-522398f50245"
      },
      "outputs": [
        {
          "name": "stderr",
          "output_type": "stream",
          "text": [
            "[nltk_data] Downloading package punkt to /root/nltk_data...\n",
            "[nltk_data]   Package punkt is already up-to-date!\n"
          ]
        }
      ],
      "source": [
        "# importing libraries\n",
        "import nltk\n",
        "nltk.download('punkt')\n",
        "from nltk.tokenize import word_tokenize\n",
        "from nltk.stem import PorterStemmer\n",
        "from pyswip import Prolog"
      ]
    },
    {
      "cell_type": "code",
      "execution_count": 37,
      "metadata": {
        "colab": {
          "base_uri": "https://localhost:8080/",
          "height": 0
        },
        "id": "mZTYKgh8KuOk",
        "outputId": "f6311a9a-bdbb-4f7d-a54e-1fe17a54b9f0"
      },
      "outputs": [
        {
          "name": "stdout",
          "output_type": "stream",
          "text": [
            "Welcome to shopping mart\n",
            "Enter your name\n",
            "Teju bhai\n",
            "Hello Teju bhai! We are happy to serve you here at our shopping mart.\n",
            "What will state your occupation as:[student/employee/business]\n",
            "I run a business\n",
            "What category are you searching your products in: \n",
            "We have these categories in our mart (electronics,furniture,household items)\n",
            "i need some items for my house\n",
            "Would you like to use our auto set budgets or not\n",
            "yup\n"
          ]
        }
      ],
      "source": [
        "print(\"Welcome to shopping mart\")\n",
        "print(\"Enter your name\")\n",
        "name = input()\n",
        "print(\"Hello \" + name + \"! We are happy to serve you here at our shopping mart.\")\n",
        "print(\"What will state your occupation as:[student/employee/business]\")\n",
        "occ = input()\n",
        "print(\"What category are you searching your products in: \")\n",
        "print(\"We have these categories in our mart (electronics,furniture,household items)\")\n",
        "typ = input()\n",
        "\n",
        "print(\"Would you like to use our auto set budgets or not\")\n",
        "choice = input()\n",
        "\n",
        "choi = 0\n",
        "lower = 0\n",
        "upper = 0\n",
        "\n",
        "\n",
        "\n",
        "\n",
        "\n"
      ]
    },
    {
      "cell_type": "code",
      "execution_count": 38,
      "metadata": {
        "id": "DJGNxXwiNqFA"
      },
      "outputs": [],
      "source": [
        "ps = PorterStemmer()\n",
        "\n",
        "tok1 = word_tokenize(choice)\n",
        "choilist = []\n",
        "for wod in tok1:\n",
        "    stem1 = ps.stem(wod)\n",
        "    choilist.append(stem1)\n",
        "\n",
        "\n",
        "for ele in choilist:\n",
        "  if(\"y\" in ele):\n",
        "    choi =2\n",
        "    choice = \"yes\"\n",
        "    break\n",
        "  else:\n",
        "    choice = \"no\"\n",
        "    choi = 1\n",
        "\n",
        "\n",
        "tok2 = word_tokenize(typ)\n",
        "typlist = []\n",
        "for wod in tok2:\n",
        "    stem1 = ps.stem(wod)\n",
        "    typlist.append(stem1)\n",
        "\n",
        "\n",
        "for ele in typlist:\n",
        "  if(\"elec\" in ele):\n",
        "    typ = \"electronics\"\n",
        "    break\n",
        "  elif (\"furn\" in ele):\n",
        "    typ = \"furniture\"\n",
        "    break\n",
        "  else:\n",
        "    typ = \"household\"\n",
        "\n",
        "\n",
        "\n",
        "tok3 = word_tokenize(occ)\n",
        "occlist = []\n",
        "for wod in tok3:\n",
        "    stem1 = ps.stem(wod)\n",
        "    occlist.append(stem1)\n",
        "\n",
        "\n",
        "for ele in occlist:\n",
        "  if((\"stud\" in ele) or (\"read\" in ele)):\n",
        "    occ = \"student\"\n",
        "    break\n",
        "  elif ((\"emp\" in ele) or (\"work\" in ele)):\n",
        "    occ = \"employee\"\n",
        "    break\n",
        "  else:\n",
        "    occ = \"business\"\n",
        "\n",
        "\n",
        "\n",
        "if(occ == \"student\"):\n",
        "  occu = 1\n",
        "elif(occ == \"employee\"):\n",
        "  occu = 2\n",
        "else:\n",
        "  occu = 3\n",
        "\n",
        "\n",
        "\n",
        "\n",
        "\n",
        "\n"
      ]
    },
    {
      "cell_type": "code",
      "execution_count": 39,
      "metadata": {
        "colab": {
          "base_uri": "https://localhost:8080/",
          "height": 0
        },
        "id": "cnMrpneKbjV5",
        "outputId": "0efc2256-26d4-4836-fe0c-8c44897cc235"
      },
      "outputs": [
        {
          "name": "stdout",
          "output_type": "stream",
          "text": [
            "Since you have chosen household, here are the categories for the items(choose the number and type the number only)\n",
            "0 Furnishings\n",
            "1 Kitchen and Dining\n",
            "2 Home Decor\n",
            "3 Tools and utility\n",
            "4 Lighting and Electricals\n",
            "5 Cleaning and Bath\n",
            "6 Pet and Gardening\n",
            "4\n",
            "Since you have chosen lighting and electricals, here are the subcategories for the items\n",
            "0 Bulbs\n",
            "1 Emergency lights\n",
            "2 Torches\n",
            "3 Tube lights\n",
            "4 Extension cords\n",
            "5 Batteries\n",
            "Choose the sub category from the chosen category (choose the number and type the number only)\n",
            "2\n",
            "You have chosen the torches of lighting and electricals category\n",
            "The highest rated product in the category is: \n",
            "Pigeon 14787 Torch with the rating of 3.03 and a price of ₹429\n",
            "we are using the auto set budget for you\n"
          ]
        }
      ],
      "source": [
        "import json\n",
        "\n",
        "f = open('/content/drive/MyDrive/AI/Ass5/sort_data.json')\n",
        "data = json.load(f)\n",
        "\n",
        "\n",
        "print(\"Since you have chosen \" + typ + \", here are the categories for the items(choose the number and type the number only)\")\n",
        "#get categories \n",
        "\n",
        "if  typ == \"electronics\": \n",
        "  typind = 0 \n",
        "  typ = \"electronics\"\n",
        "elif typ == \"furniture\":\n",
        "  typind = 1\n",
        "  typ = \"furniture\"\n",
        "else:\n",
        "  typind = 2\n",
        "  typ = \"household_items\"\n",
        "\n",
        "i =0\n",
        "for item in data[typind]['items']:\n",
        "  print(str(i) + \" \" + item['category'])\n",
        "  i = i+1\n",
        "\n",
        "cat = int(input())\n",
        "category = data[typind]['items'][cat]['category']\n",
        "category = category.lower()\n",
        "cate = \"\"\n",
        "for i in category:\n",
        "  if i == \" \":\n",
        "    cate = cate + \"_\"\n",
        "  elif i == \"&\":\n",
        "    cate += \"and\"\n",
        "  else:\n",
        "    cate += i\n",
        "    \n",
        "\n",
        "\n",
        "#get subcategories\n",
        "print(\"Since you have chosen \" + category + \", here are the subcategories for the items\")\n",
        "i = 0\n",
        "for item in data[typind]['items'][cat]['items']:\n",
        "  print(str(i) + \" \" + item['subCategory'])\n",
        "  i = i+1\n",
        "\n",
        "\n",
        "print(\"Choose the sub category from the chosen category (choose the number and type the number only)\")\n",
        "subcat = int(input())\n",
        "\n",
        "subCategory = data[typind]['items'][cat]['items'][subcat]['subCategory']\n",
        "\n",
        "subCategory = subCategory.lower()\n",
        "sucate = \"\"\n",
        "for i in subCategory:\n",
        "  if i == \" \":\n",
        "    sucate = sucate + \"_\"\n",
        "  elif i == \"&\":\n",
        "    sucate += \"and\"\n",
        "  else:\n",
        "    sucate += i\n",
        "    \n",
        "\n",
        "\n",
        "print(\"You have chosen the \" + subCategory + \" of \" + category + \" category\")\n",
        "\n",
        "\n",
        "rating = 0\n",
        "highest_rated = {}\n",
        "for item in data[typind]['items'][cat]['items'][subcat]['items']:\n",
        "  if(item['Rating'] >= rating):\n",
        "    highest_rated = item\n",
        "\n",
        "print(\"The highest rated product in the category is: \\n\" + highest_rated['Name'] + \" with the rating of \" + str(highest_rated['Rating']) + \" and a price of \" + str(highest_rated['Price']))\n",
        "\n",
        "\n",
        "if(choi == 1):\n",
        "  print(\"You have chosen not to use the auto set budget so choose your budget limits.\")\n",
        "  print(\"Your budget lower limit (Give only the number)\")\n",
        "  lower = input()\n",
        "  print(\"Your budget upper limit (Give only the number)\")\n",
        "  upper = input()\n",
        "else:\n",
        "  print(\"we are using the auto set budget for you\")\n"
      ]
    },
    {
      "cell_type": "code",
      "execution_count": 40,
      "metadata": {
        "id": "3sN1HZ9XTued"
      },
      "outputs": [],
      "source": [
        "\n",
        "\n",
        "\n",
        "ans = '\"' + (typ + \"(\" + cate + \", \" + sucate + \",\" +  str(occu) + \",\" + str(choi) + \",\" + str(lower) + \",\" + str(upper) + \").\" ) + '\"'\n"
      ]
    },
    {
      "cell_type": "code",
      "execution_count": 41,
      "metadata": {
        "colab": {
          "base_uri": "https://localhost:8080/",
          "height": 0
        },
        "id": "ZRkZR7OI0lr4",
        "outputId": "90be514d-25e4-4455-e1b7-3e7d2a423be7"
      },
      "outputs": [
        {
          "name": "stdout",
          "output_type": "stream",
          "text": [
            "Warning: /content/drive/MyDrive/AI/Ass5/shopping.pl:259:\n",
            "\tSingleton variables: [_bottles]\n",
            "Warning: /content/drive/MyDrive/AI/Ass5/shopping.pl:263:\n",
            "\tClauses of items/2 are not together in the source-file\n",
            "\t  Earlier definition at /content/drive/MyDrive/AI/Ass5/shopping.pl:3\n",
            "\t  Current predicate: items/3\n",
            "\t  Use :- discontiguous items/2. to suppress this message\n",
            "Warning: /content/drive/MyDrive/AI/Ass5/shopping.pl:269:\n",
            "\tSingleton variables: [_bottles]\n",
            "Warning: /content/drive/MyDrive/AI/Ass5/shopping.pl:362:\n",
            "\tSingleton variables: [Electronics,Furniture,Household]\n",
            "Warning: /content/drive/MyDrive/AI/Ass5/shopping.pl:363:\n",
            "\tSingleton variables: [Lname]\n",
            "Warning: /content/drive/MyDrive/AI/Ass5/shopping.pl:379:\n",
            "\tSingleton variables: [Item_type_Main]\n",
            "Warning: /content/drive/MyDrive/AI/Ass5/shopping.pl:550:\n",
            "\tSingleton variables: [Item_type_Main]\n",
            "Warning: /content/drive/MyDrive/AI/Ass5/shopping.pl:720:\n",
            "\tSingleton variables: [Item_type_Main]\n",
            "Warning: /content/drive/MyDrive/AI/Ass5/shopping.pl:907:\n",
            "\tSingleton variables: [Own_brand]\n",
            "Warning: /content/drive/MyDrive/AI/Ass5/shopping.pl:916:\n",
            "\tSingleton variables: [X]\n",
            "Warning: /content/drive/MyDrive/AI/Ass5/shopping.pl:963:\n",
            "\tSingleton variables: [L,U]\n",
            "Warning: /content/drive/MyDrive/AI/Ass5/shopping.pl:964:\n",
            "\tSingleton variables: [F]\n",
            "Warning: /content/drive/MyDrive/AI/Ass5/shopping.pl:1021:\n",
            "\tSingleton variables: [L]\n",
            "\n",
            "=======================\n",
            "\n",
            "Welcome to Household Items section\n",
            "\n",
            "========================\n",
            "Here is the top rated product according to your needs:\n",
            "Brand : BRIGHT\n",
            " Name and descripton : BRIGHT LIGHT ONLITE Waterproof LED 50W Flashlight Torch techomania Emergency Table Lamp LONG Torch\n",
            " Price(in rupees) : 245\n",
            " Rating(Out of 5) : 4.77\n",
            " Total Ratings : 826\n",
            "\n",
            "\n",
            "==============================================================\n",
            "Here are some stats to help aid your searching experience- :\n",
            "\n",
            "Average Product Price: 248.2173913043478\n",
            "\n",
            "The price range available here is: \n",
            "\tThe lowest price is: 79\n",
            "\tThe highest price is: 585\n",
            "\n",
            "The total numbers of reviewers that rated this product subtype: 21100\n",
            "\n",
            "==============================================================\n",
            "Since you are a Business ,your auto-budget is set too: \n",
            "0 - 585\n",
            "These are the recommendations based on your budget (Top Rated First):\n",
            "\n",
            "Brand : BRIGHT\n",
            " Name and descripton : BRIGHT LIGHT ONLITE Waterproof LED 50W Flashlight Torch techomania Emergency Table Lamp LONG Torch\n",
            " Price(in rupees) : 245\n",
            " Rating(Out of 5) : 4.77\n",
            " Total Ratings : 826\n",
            "\n",
            "Brand : Pigeon\n",
            " Name and descripton : Pigeon 14810 Torch\n",
            " Price(in rupees) : 87\n",
            " Rating(Out of 5) : 4.67\n",
            " Total Ratings : 1762\n",
            "\n",
            "Brand : awza\n",
            " Name and descripton : awza Rechargeable Flashlight,One of the Smallest and Lightest 35000LM External Flashlight Mini 3500LM ...\n",
            " Price(in rupees) : 127\n",
            " Rating(Out of 5) : 4.64\n",
            " Total Ratings : 333\n",
            "\n",
            "Brand : JY\n",
            " Name and descripton : JY SUPER JY-8970 High Power Long Life Flashlight - Rechargeable And Two Bulb LED Torch\n",
            " Price(in rupees) : 223\n",
            " Rating(Out of 5) : 4.63\n",
            " Total Ratings : 233\n",
            "\n",
            "Brand : Pigeon\n",
            " Name and descripton : Pigeon 14806 Torch\n",
            " Price(in rupees) : 79\n",
            " Rating(Out of 5) : 4.48\n",
            " Total Ratings : 1310\n",
            "\n",
            "Brand : JY\n",
            " Name and descripton : JY SUPER jy-8990 Torch\n",
            " Price(in rupees) : 234\n",
            " Rating(Out of 5) : 4.36\n",
            " Total Ratings : 1981\n",
            "\n",
            "Brand : MZ\n",
            " Name and descripton : MZ Mini Rechargeable Pocket Light Zoom COB USB Charging Led Water Proof DP Torch\n",
            " Price(in rupees) : 119\n",
            " Rating(Out of 5) : 3.94\n",
            " Total Ratings : 206\n",
            "\n",
            "Brand : Syska\n",
            " Name and descripton : Syska SSK-T112ML Torch\n",
            " Price(in rupees) : 199\n",
            " Rating(Out of 5) : 3.77\n",
            " Total Ratings : 661\n",
            "\n",
            "Brand : STARDEEP\n",
            " Name and descripton : STARDEEP PL 006 PLUS WITH CHARGER SUPREME LITHIUM 3W Torch\n",
            " Price(in rupees) : 215\n",
            " Rating(Out of 5) : 3.75\n",
            " Total Ratings : 644\n",
            "\n",
            "Brand : Pigeon\n",
            " Name and descripton : Pigeon 14809 Torch\n",
            " Price(in rupees) : 79\n",
            " Rating(Out of 5) : 3.49\n",
            " Total Ratings : 1246\n",
            "\n",
            "Brand : NH\n",
            " Name and descripton : NH WORLD Mini 2 in1 Waterproof Chargeable LED 4 Mode Zoomable Full Metal Body 9W Flashlight Torch Home...\n",
            " Price(in rupees) : 172\n",
            " Rating(Out of 5) : 3.46\n",
            " Total Ratings : 1637\n",
            "\n",
            "Brand : HAVELLS\n",
            " Name and descripton : HAVELLS Ranger10 Torch\n",
            " Price(in rupees) : 175\n",
            " Rating(Out of 5) : 3.42\n",
            " Total Ratings : 289\n",
            "\n",
            "Brand : EVEREADY\n",
            " Name and descripton : EVEREADY DL50 Torch\n",
            " Price(in rupees) : 87\n",
            " Rating(Out of 5) : 3.24\n",
            " Total Ratings : 798\n",
            "\n",
            "\n",
            "THANKYOU FOR USING JCT RECOMMENDATION SYSTEM\n",
            "true \n",
            "ERROR: Type error: `character_code' expected, found `-1' (an integer)\n",
            "ERROR: In:\n",
            "ERROR:   [11] char_code(_5442,-1)\n",
            "ERROR:   [10] '$in_reply'(-1,'?h') at /usr/lib/swi-prolog/boot/init.pl:804\n",
            "\n"
          ]
        }
      ],
      "source": [
        "import subprocess\n",
        "x = 'echo ' + ans + ' | swipl -q -f /content/drive/MyDrive/AI/Ass5/shopping.pl'\n",
        "print(subprocess.getoutput(x))"
      ]
    }
  ],
  "metadata": {
    "colab": {
      "provenance": []
    },
    "kernelspec": {
      "display_name": "Python 3",
      "language": "python",
      "name": "python3"
    },
    "language_info": {
      "codemirror_mode": {
        "name": "ipython",
        "version": 3
      },
      "file_extension": ".py",
      "mimetype": "text/x-python",
      "name": "python",
      "nbconvert_exporter": "python",
      "pygments_lexer": "ipython3",
      "version": "3.10.4"
    },
    "vscode": {
      "interpreter": {
        "hash": "aee8b7b246df8f9039afb4144a1f6fd8d2ca17a180786b69acc140d282b71a49"
      }
    }
  },
  "nbformat": 4,
  "nbformat_minor": 0
}
